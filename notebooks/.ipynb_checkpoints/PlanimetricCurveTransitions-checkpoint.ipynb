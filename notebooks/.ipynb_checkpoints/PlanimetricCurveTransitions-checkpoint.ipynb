{
 "cells": [
  {
   "cell_type": "markdown",
   "id": "e4b27975-c5d7-49eb-a702-663ed473f0f8",
   "metadata": {},
   "source": [
    "# Introduction to Planimetric Transitions\n",
    "\n",
    "In road axis design, ensuring a **smooth and safe path** for the driver requires specific criteria for planimetric design, with particular attention to the following cases:\n",
    "\n",
    "- **Transitions between straight sections and circular curves**  \n",
    "  The use of a **clothoid** as a transition curve ensures a gradual variation in curvature, improving both **safety** and **driving comfort**.\n",
    "\n",
    "- **Transitions between consecutive curves in the same direction**  \n",
    "  When two circular curves with different radii follow each other, a **clothoid transition** is necessary to avoid abrupt curvature changes.\n",
    "\n",
    "- **Transitions between consecutive curves in opposite directions (Flexure Clothoid)**  \n",
    "  When two curves of opposite direction follow each other, the design solution may include:  \n",
    "  - **An intermediate straight section**, ensuring enough separation to prevent abrupt maneuvers.  \n",
    "  - **A direct transition using a flexure clothoid**, allowing a **continuous variation of curvature** through a **zero-curvature point**.\n",
    "\n",
    "\n",
    "Below, we will examine some **fundamental geometric problems** related to **circular arc transitions**, followed by the analysis of **variable curvature curves**:\n",
    "\n",
    "1. **Straight section transitions using circular arcs**  \n",
    "2. **Introduction of clothoids**  \n",
    "3. **Complex transitions between consecutive curves (same & opposite directions)**\n",
    "\n",
    "---\n",
    "# 1. Straight Section Transitions Using Circular Arcs\n",
    "\n",
    "In this section, we analyze the problem of connecting two straight road segments using a **circular arc**. This study is divided into two parts:\n",
    "- 1.1 Connecting straight sections with a circular arc\n",
    "- 1.2 Constraining the circular transition\n",
    "\n",
    "## 1.1 Connecting Straight Sections with a Circular Arc\n",
    "\n",
    "The simplest case consists of defining the geometry of a circular transition between two straight sections. This is characterized by the **coordinates of three key points** and the **radius R** of the circular arc:\n",
    "\n",
    "- **P₀**: The starting point of the first straight section.\n",
    "- **P₁**: The intersection of the two straight sections.\n",
    "- **P₂**: The endpoint of the second straight section.\n",
    "- **R**: The prescribed radius of the circular arc, which influences the curvature and length of the transition.\n",
    "\n",
    "### Transition Geometry Definition\n",
    "\n",
    "To define the transition geometry, we first compute the **intersection angle (α)** at **P₁**, which determines the deflection between the two segments. Given **α** and the radius **R**, we derive:\n",
    "\n",
    "- **Central angle (θ):** The circular arc's subtended angle at its center.  \n",
    "\n",
    "\n",
    "   $$\\theta = \\pi - \\alpha$$\n",
    "\n",
    "- **Tangent length (T):** Distance from **P₁** to the arc's tangent points.  \n",
    "\n",
    "\n",
    "   $$  T = R \\cdot \\tan\\left(\\frac{\\theta}{2}\\right)$$\n",
    "\n",
    "- **Bisector length (B):** Perpendicular distance from **P₁** to the arc's midpoint.  \n",
    "\n",
    "\n",
    "  $$B = R  / \\cos\\left(\\frac{\\alpha}{2}\\right)$$\n",
    "\n",
    "The following figure illustrates these relationships, which we will compute using the equations for θ, T, and B introduced above.\n",
    "\n",
    "---\n",
    "### **Computational Steps**\n",
    "To generate the circular transition, we perform the following steps:\n",
    "\n",
    "1. **Compute the intersection angle (α)** between the two straight road sections.\n",
    "2. **Calculate the central angle (θ)**, which is the angle subtended by the circular arc at its center. This determines how much of the circle is used.\n",
    "3. **Determine the tangent length (T) and bisector length (B)** based on θ and R.\n",
    "4. **Find the center of the circular arc (O)** using the bisector method.\n",
    "5. **Determine the tangent points (T₁ and T₂)** where the circular arc connects to the straight sections.\n",
    "6. **Compute the coordinates of the circular arc** in the global reference system using parametric equations.\n",
    "7. **Visualize the transition** by plotting the arc along with the straight sections and key points.\n",
    "\n",
    "All these computational steps are implemented in the `CircularTransition` class, which is part of the `functions.py` module.  \n",
    "The following example demonstrates its usage.\n",
    "\n",
    "---"
   ]
  },
  {
   "cell_type": "code",
   "execution_count": 7,
   "id": "534d002a-7a4d-44d5-91be-df6266092ed2",
   "metadata": {},
   "outputs": [
    {
     "name": "stdout",
     "output_type": "stream",
     "text": [
      "P0: [0 0], P1: [45 30], P2: [80  0]\n",
      "Radius (R): 25\n",
      "Intersection Angle α: 105.71 degrees\n",
      "Central Angle θ: 74.29 degrees\n",
      "Tangent Length T: 18.9387\n",
      "Bisector Length B: 31.3636\n",
      "Circle Center (O): [43.10955122 -1.30655982]\n",
      "Tangent Points: T1 = [29.24204631 19.49469754], T2 = [59.37933555 17.67485524]\n"
     ]
    },
    {
     "data": {
      "application/vnd.plotly.v1+json": {
       "config": {
        "plotlyServerURL": "https://plot.ly"
       },
       "data": [
        {
         "line": {
          "color": "blue",
          "width": 2
         },
         "mode": "lines",
         "name": "Circular Arc",
         "type": "scatter",
         "x": [
          29.24204631028276,
          29.515667412637974,
          29.79162035277143,
          30.06985779487386,
          30.350332011262132,
          30.632994890566223,
          30.917797945982073,
          31.20469232358878,
          31.49362881072883,
          31.784557844449775,
          32.077429520006135,
          32.372193599419774,
          32.66879952009754,
          32.96719640350455,
          33.267333063891726,
          33.569158017075914,
          33.87261948927132,
          34.17766542597054,
          34.48424350087376,
          34.79230112486465,
          35.1017854550312,
          35.41264340373022,
          35.72482164769377,
          36.038266637176015,
          36.35292460513887,
          36.66874157647503,
          36.98566337726663,
          37.303635644078,
          37.622603833280905,
          37.94251323041078,
          38.26330895955222,
          38.58493599275211,
          38.90733915945895,
          39.23046315598656,
          39.55425255500063,
          39.87865181502648,
          40.203605289976466,
          40.52905723869522,
          40.85495183452129,
          41.181233174863365,
          41.507845290789646,
          41.834732156628455,
          42.16183769957867,
          42.48910580932821,
          42.81648034767897,
          43.143905158176544,
          43.471324075743034,
          43.7986809363114,
          44.125919586459595,
          44.45298389304289,
          44.77981775282273,
          45.10636510209043,
          45.43256992628411,
          45.758376269597214,
          46.08372824457692,
          46.40857004171083,
          46.73284593900035,
          47.056500311518924,
          47.37947764095378,
          47.701722525129256,
          48.02317968751029,
          48.34379398668431,
          48.66351042581994,
          48.98227416210098,
          49.300030516133845,
          49.61672498132711,
          49.93230323324127,
          50.24671113890738,
          50.55989476611278,
          50.87180039265239,
          51.18237451554401,
          51.49156386020599,
          51.79931538959571,
          52.10557631330737,
          52.410294096627375,
          52.713416469546004,
          53.01489143572351,
          53.3146672814094,
          53.61269258431315,
          53.90891622242506,
          54.203287382785376,
          54.49575557020065,
          54.78627061590541,
          55.07478268616792,
          55.36124229083843,
          55.64560029183856,
          55.92780791159018,
          56.20781674138251,
          56.48557874967602,
          56.7610462903415,
          57.03417211083306,
          57.30490936029368,
          57.57321159759179,
          57.8390327992876,
          58.10232736752772,
          58.36305013786689,
          58.62115638701527,
          58.876601840510055,
          59.12934268031019,
          59.379335552312696
         ],
         "y": [
          19.49469754018851,
          19.674534603698667,
          19.850772658322924,
          20.023381472925003,
          20.19233143891324,
          20.357593575319495,
          20.519139533770446,
          20.676941603350333,
          20.8309727153544,
          20.981206447932106,
          21.12761703061945,
          21.270179348759527,
          21.408868947810564,
          21.543662037540784,
          21.67453549610925,
          21.801466874032126,
          21.924434398033533,
          22.043416974780456,
          22.15839419450102,
          22.269346334485476,
          22.37625436246936,
          22.479099939898212,
          22.5778654250733,
          22.672533876177773,
          22.76308905418283,
          22.84951542563327,
          22.931798165312035,
          23.00992315878328,
          23.08387700481349,
          23.153647017670277,
          23.21922122929844,
          23.280588391372913,
          23.337737977228254,
          23.390660183664338,
          23.439345932627976,
          23.48378687277011,
          23.52397538087838,
          23.559904563184748,
          23.591568256548076,
          23.618961029511286,
          23.64207818323306,
          23.660915752293867,
          23.675470505376165,
          23.685739945818693,
          23.691722312044732,
          23.69341657786429,
          23.690822452650117,
          23.68394038138756,
          23.672771544598255,
          23.65731785813758,
          23.637581972866062,
          23.61356727419463,
          23.585277881503917,
          23.55271864743762,
          23.515895157070112,
          23.474813726948394,
          23.429481404008577,
          23.379905964367097,
          23.326095911986823,
          23.268060477218302,
          23.205809615216467,
          23.13935400423294,
          23.06870504378433,
          22.99387485269682,
          22.91487626702735,
          22.831722837861772,
          22.744428828990362,
          22.65300921446105,
          22.557479676010853,
          22.457856600375887,
          22.35415707648046,
          22.24639889250571,
          22.13460053283828,
          22.01878117489961,
          21.898960685856295,
          21.77515961921219,
          21.647399211282696,
          21.515701377552027,
          21.380088708913885,
          21.240584467796317,
          21.097212584171395,
          20.949997651450346,
          20.79896492226491,
          20.644140304135615,
          20.485550355027705,
          20.323222278795495,
          20.157183920515937,
          19.98746376171221,
          19.814090915468075,
          19.637095121433997,
          19.45650674072568,
          19.272356750716078,
          19.084676739721658,
          18.893498901583868,
          18.69885603014675,
          18.500781513631612,
          18.299309328909757,
          18.094474035674242,
          17.886310770511628,
          17.67485524087483
         ]
        },
        {
         "line": {
          "color": "black",
          "dash": "dash",
          "width": 2
         },
         "mode": "lines",
         "name": "P0P1",
         "type": "scatter",
         "x": [
          0,
          45
         ],
         "y": [
          0,
          30
         ]
        },
        {
         "line": {
          "color": "black",
          "dash": "dash",
          "width": 2
         },
         "mode": "lines",
         "name": "P1P2",
         "type": "scatter",
         "x": [
          45,
          80
         ],
         "y": [
          30,
          0
         ]
        },
        {
         "line": {
          "color": "black",
          "dash": "dot",
          "width": 2
         },
         "mode": "lines",
         "name": "P1O",
         "type": "scatter",
         "x": [
          43.109551215913484,
          45
         ],
         "y": [
          -1.3065598182575862,
          30
         ]
        },
        {
         "line": {
          "color": "black",
          "dash": "dot",
          "width": 2
         },
         "mode": "lines",
         "name": "T1O",
         "type": "scatter",
         "x": [
          43.109551215913484,
          29.24204631028276
         ],
         "y": [
          -1.3065598182575862,
          19.494697540188508
         ]
        },
        {
         "line": {
          "color": "black",
          "dash": "dot",
          "width": 2
         },
         "mode": "lines",
         "name": "T2O",
         "type": "scatter",
         "x": [
          43.109551215913484,
          59.379335552312696
         ],
         "y": [
          -1.3065598182575862,
          17.67485524087483
         ]
        },
        {
         "marker": {
          "color": "red",
          "size": 10
         },
         "mode": "markers+text",
         "name": "Reference Points",
         "text": [
          "P0",
          "P1",
          "P2",
          "O",
          "T1",
          "T2"
         ],
         "textposition": "top center",
         "type": "scatter",
         "x": [
          0,
          45,
          80,
          43.109551215913484,
          29.24204631028276,
          59.379335552312696
         ],
         "y": [
          0,
          30,
          0,
          -1.3065598182575862,
          19.494697540188508,
          17.67485524087483
         ]
        }
       ],
       "layout": {
        "height": 700,
        "template": {
         "data": {
          "bar": [
           {
            "error_x": {
             "color": "#2a3f5f"
            },
            "error_y": {
             "color": "#2a3f5f"
            },
            "marker": {
             "line": {
              "color": "white",
              "width": 0.5
             },
             "pattern": {
              "fillmode": "overlay",
              "size": 10,
              "solidity": 0.2
             }
            },
            "type": "bar"
           }
          ],
          "barpolar": [
           {
            "marker": {
             "line": {
              "color": "white",
              "width": 0.5
             },
             "pattern": {
              "fillmode": "overlay",
              "size": 10,
              "solidity": 0.2
             }
            },
            "type": "barpolar"
           }
          ],
          "carpet": [
           {
            "aaxis": {
             "endlinecolor": "#2a3f5f",
             "gridcolor": "#C8D4E3",
             "linecolor": "#C8D4E3",
             "minorgridcolor": "#C8D4E3",
             "startlinecolor": "#2a3f5f"
            },
            "baxis": {
             "endlinecolor": "#2a3f5f",
             "gridcolor": "#C8D4E3",
             "linecolor": "#C8D4E3",
             "minorgridcolor": "#C8D4E3",
             "startlinecolor": "#2a3f5f"
            },
            "type": "carpet"
           }
          ],
          "choropleth": [
           {
            "colorbar": {
             "outlinewidth": 0,
             "ticks": ""
            },
            "type": "choropleth"
           }
          ],
          "contour": [
           {
            "colorbar": {
             "outlinewidth": 0,
             "ticks": ""
            },
            "colorscale": [
             [
              0,
              "#0d0887"
             ],
             [
              0.1111111111111111,
              "#46039f"
             ],
             [
              0.2222222222222222,
              "#7201a8"
             ],
             [
              0.3333333333333333,
              "#9c179e"
             ],
             [
              0.4444444444444444,
              "#bd3786"
             ],
             [
              0.5555555555555556,
              "#d8576b"
             ],
             [
              0.6666666666666666,
              "#ed7953"
             ],
             [
              0.7777777777777778,
              "#fb9f3a"
             ],
             [
              0.8888888888888888,
              "#fdca26"
             ],
             [
              1,
              "#f0f921"
             ]
            ],
            "type": "contour"
           }
          ],
          "contourcarpet": [
           {
            "colorbar": {
             "outlinewidth": 0,
             "ticks": ""
            },
            "type": "contourcarpet"
           }
          ],
          "heatmap": [
           {
            "colorbar": {
             "outlinewidth": 0,
             "ticks": ""
            },
            "colorscale": [
             [
              0,
              "#0d0887"
             ],
             [
              0.1111111111111111,
              "#46039f"
             ],
             [
              0.2222222222222222,
              "#7201a8"
             ],
             [
              0.3333333333333333,
              "#9c179e"
             ],
             [
              0.4444444444444444,
              "#bd3786"
             ],
             [
              0.5555555555555556,
              "#d8576b"
             ],
             [
              0.6666666666666666,
              "#ed7953"
             ],
             [
              0.7777777777777778,
              "#fb9f3a"
             ],
             [
              0.8888888888888888,
              "#fdca26"
             ],
             [
              1,
              "#f0f921"
             ]
            ],
            "type": "heatmap"
           }
          ],
          "heatmapgl": [
           {
            "colorbar": {
             "outlinewidth": 0,
             "ticks": ""
            },
            "colorscale": [
             [
              0,
              "#0d0887"
             ],
             [
              0.1111111111111111,
              "#46039f"
             ],
             [
              0.2222222222222222,
              "#7201a8"
             ],
             [
              0.3333333333333333,
              "#9c179e"
             ],
             [
              0.4444444444444444,
              "#bd3786"
             ],
             [
              0.5555555555555556,
              "#d8576b"
             ],
             [
              0.6666666666666666,
              "#ed7953"
             ],
             [
              0.7777777777777778,
              "#fb9f3a"
             ],
             [
              0.8888888888888888,
              "#fdca26"
             ],
             [
              1,
              "#f0f921"
             ]
            ],
            "type": "heatmapgl"
           }
          ],
          "histogram": [
           {
            "marker": {
             "pattern": {
              "fillmode": "overlay",
              "size": 10,
              "solidity": 0.2
             }
            },
            "type": "histogram"
           }
          ],
          "histogram2d": [
           {
            "colorbar": {
             "outlinewidth": 0,
             "ticks": ""
            },
            "colorscale": [
             [
              0,
              "#0d0887"
             ],
             [
              0.1111111111111111,
              "#46039f"
             ],
             [
              0.2222222222222222,
              "#7201a8"
             ],
             [
              0.3333333333333333,
              "#9c179e"
             ],
             [
              0.4444444444444444,
              "#bd3786"
             ],
             [
              0.5555555555555556,
              "#d8576b"
             ],
             [
              0.6666666666666666,
              "#ed7953"
             ],
             [
              0.7777777777777778,
              "#fb9f3a"
             ],
             [
              0.8888888888888888,
              "#fdca26"
             ],
             [
              1,
              "#f0f921"
             ]
            ],
            "type": "histogram2d"
           }
          ],
          "histogram2dcontour": [
           {
            "colorbar": {
             "outlinewidth": 0,
             "ticks": ""
            },
            "colorscale": [
             [
              0,
              "#0d0887"
             ],
             [
              0.1111111111111111,
              "#46039f"
             ],
             [
              0.2222222222222222,
              "#7201a8"
             ],
             [
              0.3333333333333333,
              "#9c179e"
             ],
             [
              0.4444444444444444,
              "#bd3786"
             ],
             [
              0.5555555555555556,
              "#d8576b"
             ],
             [
              0.6666666666666666,
              "#ed7953"
             ],
             [
              0.7777777777777778,
              "#fb9f3a"
             ],
             [
              0.8888888888888888,
              "#fdca26"
             ],
             [
              1,
              "#f0f921"
             ]
            ],
            "type": "histogram2dcontour"
           }
          ],
          "mesh3d": [
           {
            "colorbar": {
             "outlinewidth": 0,
             "ticks": ""
            },
            "type": "mesh3d"
           }
          ],
          "parcoords": [
           {
            "line": {
             "colorbar": {
              "outlinewidth": 0,
              "ticks": ""
             }
            },
            "type": "parcoords"
           }
          ],
          "pie": [
           {
            "automargin": true,
            "type": "pie"
           }
          ],
          "scatter": [
           {
            "fillpattern": {
             "fillmode": "overlay",
             "size": 10,
             "solidity": 0.2
            },
            "type": "scatter"
           }
          ],
          "scatter3d": [
           {
            "line": {
             "colorbar": {
              "outlinewidth": 0,
              "ticks": ""
             }
            },
            "marker": {
             "colorbar": {
              "outlinewidth": 0,
              "ticks": ""
             }
            },
            "type": "scatter3d"
           }
          ],
          "scattercarpet": [
           {
            "marker": {
             "colorbar": {
              "outlinewidth": 0,
              "ticks": ""
             }
            },
            "type": "scattercarpet"
           }
          ],
          "scattergeo": [
           {
            "marker": {
             "colorbar": {
              "outlinewidth": 0,
              "ticks": ""
             }
            },
            "type": "scattergeo"
           }
          ],
          "scattergl": [
           {
            "marker": {
             "colorbar": {
              "outlinewidth": 0,
              "ticks": ""
             }
            },
            "type": "scattergl"
           }
          ],
          "scattermapbox": [
           {
            "marker": {
             "colorbar": {
              "outlinewidth": 0,
              "ticks": ""
             }
            },
            "type": "scattermapbox"
           }
          ],
          "scatterpolar": [
           {
            "marker": {
             "colorbar": {
              "outlinewidth": 0,
              "ticks": ""
             }
            },
            "type": "scatterpolar"
           }
          ],
          "scatterpolargl": [
           {
            "marker": {
             "colorbar": {
              "outlinewidth": 0,
              "ticks": ""
             }
            },
            "type": "scatterpolargl"
           }
          ],
          "scatterternary": [
           {
            "marker": {
             "colorbar": {
              "outlinewidth": 0,
              "ticks": ""
             }
            },
            "type": "scatterternary"
           }
          ],
          "surface": [
           {
            "colorbar": {
             "outlinewidth": 0,
             "ticks": ""
            },
            "colorscale": [
             [
              0,
              "#0d0887"
             ],
             [
              0.1111111111111111,
              "#46039f"
             ],
             [
              0.2222222222222222,
              "#7201a8"
             ],
             [
              0.3333333333333333,
              "#9c179e"
             ],
             [
              0.4444444444444444,
              "#bd3786"
             ],
             [
              0.5555555555555556,
              "#d8576b"
             ],
             [
              0.6666666666666666,
              "#ed7953"
             ],
             [
              0.7777777777777778,
              "#fb9f3a"
             ],
             [
              0.8888888888888888,
              "#fdca26"
             ],
             [
              1,
              "#f0f921"
             ]
            ],
            "type": "surface"
           }
          ],
          "table": [
           {
            "cells": {
             "fill": {
              "color": "#EBF0F8"
             },
             "line": {
              "color": "white"
             }
            },
            "header": {
             "fill": {
              "color": "#C8D4E3"
             },
             "line": {
              "color": "white"
             }
            },
            "type": "table"
           }
          ]
         },
         "layout": {
          "annotationdefaults": {
           "arrowcolor": "#2a3f5f",
           "arrowhead": 0,
           "arrowwidth": 1
          },
          "autotypenumbers": "strict",
          "coloraxis": {
           "colorbar": {
            "outlinewidth": 0,
            "ticks": ""
           }
          },
          "colorscale": {
           "diverging": [
            [
             0,
             "#8e0152"
            ],
            [
             0.1,
             "#c51b7d"
            ],
            [
             0.2,
             "#de77ae"
            ],
            [
             0.3,
             "#f1b6da"
            ],
            [
             0.4,
             "#fde0ef"
            ],
            [
             0.5,
             "#f7f7f7"
            ],
            [
             0.6,
             "#e6f5d0"
            ],
            [
             0.7,
             "#b8e186"
            ],
            [
             0.8,
             "#7fbc41"
            ],
            [
             0.9,
             "#4d9221"
            ],
            [
             1,
             "#276419"
            ]
           ],
           "sequential": [
            [
             0,
             "#0d0887"
            ],
            [
             0.1111111111111111,
             "#46039f"
            ],
            [
             0.2222222222222222,
             "#7201a8"
            ],
            [
             0.3333333333333333,
             "#9c179e"
            ],
            [
             0.4444444444444444,
             "#bd3786"
            ],
            [
             0.5555555555555556,
             "#d8576b"
            ],
            [
             0.6666666666666666,
             "#ed7953"
            ],
            [
             0.7777777777777778,
             "#fb9f3a"
            ],
            [
             0.8888888888888888,
             "#fdca26"
            ],
            [
             1,
             "#f0f921"
            ]
           ],
           "sequentialminus": [
            [
             0,
             "#0d0887"
            ],
            [
             0.1111111111111111,
             "#46039f"
            ],
            [
             0.2222222222222222,
             "#7201a8"
            ],
            [
             0.3333333333333333,
             "#9c179e"
            ],
            [
             0.4444444444444444,
             "#bd3786"
            ],
            [
             0.5555555555555556,
             "#d8576b"
            ],
            [
             0.6666666666666666,
             "#ed7953"
            ],
            [
             0.7777777777777778,
             "#fb9f3a"
            ],
            [
             0.8888888888888888,
             "#fdca26"
            ],
            [
             1,
             "#f0f921"
            ]
           ]
          },
          "colorway": [
           "#636efa",
           "#EF553B",
           "#00cc96",
           "#ab63fa",
           "#FFA15A",
           "#19d3f3",
           "#FF6692",
           "#B6E880",
           "#FF97FF",
           "#FECB52"
          ],
          "font": {
           "color": "#2a3f5f"
          },
          "geo": {
           "bgcolor": "white",
           "lakecolor": "white",
           "landcolor": "white",
           "showlakes": true,
           "showland": true,
           "subunitcolor": "#C8D4E3"
          },
          "hoverlabel": {
           "align": "left"
          },
          "hovermode": "closest",
          "mapbox": {
           "style": "light"
          },
          "paper_bgcolor": "white",
          "plot_bgcolor": "white",
          "polar": {
           "angularaxis": {
            "gridcolor": "#EBF0F8",
            "linecolor": "#EBF0F8",
            "ticks": ""
           },
           "bgcolor": "white",
           "radialaxis": {
            "gridcolor": "#EBF0F8",
            "linecolor": "#EBF0F8",
            "ticks": ""
           }
          },
          "scene": {
           "xaxis": {
            "backgroundcolor": "white",
            "gridcolor": "#DFE8F3",
            "gridwidth": 2,
            "linecolor": "#EBF0F8",
            "showbackground": true,
            "ticks": "",
            "zerolinecolor": "#EBF0F8"
           },
           "yaxis": {
            "backgroundcolor": "white",
            "gridcolor": "#DFE8F3",
            "gridwidth": 2,
            "linecolor": "#EBF0F8",
            "showbackground": true,
            "ticks": "",
            "zerolinecolor": "#EBF0F8"
           },
           "zaxis": {
            "backgroundcolor": "white",
            "gridcolor": "#DFE8F3",
            "gridwidth": 2,
            "linecolor": "#EBF0F8",
            "showbackground": true,
            "ticks": "",
            "zerolinecolor": "#EBF0F8"
           }
          },
          "shapedefaults": {
           "line": {
            "color": "#2a3f5f"
           }
          },
          "ternary": {
           "aaxis": {
            "gridcolor": "#DFE8F3",
            "linecolor": "#A2B1C6",
            "ticks": ""
           },
           "baxis": {
            "gridcolor": "#DFE8F3",
            "linecolor": "#A2B1C6",
            "ticks": ""
           },
           "bgcolor": "white",
           "caxis": {
            "gridcolor": "#DFE8F3",
            "linecolor": "#A2B1C6",
            "ticks": ""
           }
          },
          "title": {
           "x": 0.05
          },
          "xaxis": {
           "automargin": true,
           "gridcolor": "#EBF0F8",
           "linecolor": "#EBF0F8",
           "ticks": "",
           "title": {
            "standoff": 15
           },
           "zerolinecolor": "#EBF0F8",
           "zerolinewidth": 2
          },
          "yaxis": {
           "automargin": true,
           "gridcolor": "#EBF0F8",
           "linecolor": "#EBF0F8",
           "ticks": "",
           "title": {
            "standoff": 15
           },
           "zerolinecolor": "#EBF0F8",
           "zerolinewidth": 2
          }
         }
        },
        "title": {
         "text": "Circular Transition Plot"
        },
        "width": 900,
        "xaxis": {
         "autorange": true,
         "domain": [
          0,
          1
         ],
         "range": [
          -5.41790783248642,
          85.41790783248642
         ],
         "scaleanchor": "y",
         "scaleratio": 1,
         "title": {
          "text": "X"
         },
         "type": "linear"
        },
        "yaxis": {
         "autorange": true,
         "domain": [
          0,
          1
         ],
         "range": [
          -22.099749157420355,
          50.79318933916277
         ],
         "scaleanchor": "x",
         "scaleratio": 1,
         "title": {
          "text": "Y"
         },
         "type": "linear"
        }
       }
      },
      "image/png": "[encoded data removed]",
      "text/html": [
       "<div>                            <div id=\"15eecce2-49fc-47b5-9073-7acfa92845cb\" class=\"plotly-graph-div\" style=\"height:700px; width:900px;\"></div>            <script type=\"text/javascript\">                require([\"plotly\"], function(Plotly) {                    window.PLOTLYENV=window.PLOTLYENV || {};                                    if (document.getElementById(\"15eecce2-49fc-47b5-9073-7acfa92845cb\")) {                    Plotly.newPlot(                        \"15eecce2-49fc-47b5-9073-7acfa92845cb\",                        [{\"line\":{\"color\":\"blue\",\"width\":2},\"mode\":\"lines\",\"name\":\"Circular Arc\",\"x\":[29.24204631028276,29.515667412637974,29.79162035277143,30.06985779487386,30.350332011262132,30.632994890566223,30.917797945982073,31.20469232358878,31.49362881072883,31.784557844449775,32.077429520006135,32.372193599419774,32.66879952009754,32.96719640350455,33.267333063891726,33.569158017075914,33.87261948927132,34.17766542597054,34.48424350087376,34.79230112486465,35.1017854550312,35.41264340373022,35.72482164769377,36.038266637176015,36.35292460513887,36.66874157647503,36.98566337726663,37.303635644078,37.622603833280905,37.94251323041078,38.26330895955222,38.58493599275211,38.90733915945895,39.23046315598656,39.55425255500063,39.87865181502648,40.203605289976466,40.52905723869522,40.85495183452129,41.181233174863365,41.507845290789646,41.834732156628455,42.16183769957867,42.48910580932821,42.81648034767897,43.143905158176544,43.471324075743034,43.7986809363114,44.125919586459595,44.45298389304289,44.77981775282273,45.10636510209043,45.43256992628411,45.758376269597214,46.08372824457692,46.40857004171083,46.73284593900035,47.056500311518924,47.37947764095378,47.701722525129256,48.02317968751029,48.34379398668431,48.66351042581994,48.98227416210098,49.300030516133845,49.61672498132711,49.93230323324127,50.24671113890738,50.55989476611278,50.87180039265239,51.18237451554401,51.49156386020599,51.79931538959571,52.10557631330737,52.410294096627375,52.713416469546004,53.01489143572351,53.3146672814094,53.61269258431315,53.90891622242506,54.203287382785376,54.49575557020065,54.78627061590541,55.07478268616792,55.36124229083843,55.64560029183856,55.92780791159018,56.20781674138251,56.48557874967602,56.7610462903415,57.03417211083306,57.30490936029368,57.57321159759179,57.8390327992876,58.10232736752772,58.36305013786689,58.62115638701527,58.876601840510055,59.12934268031019,59.379335552312696],\"y\":[19.49469754018851,19.674534603698667,19.850772658322924,20.023381472925003,20.19233143891324,20.357593575319495,20.519139533770446,20.676941603350333,20.8309727153544,20.981206447932106,21.12761703061945,21.270179348759527,21.408868947810564,21.543662037540784,21.67453549610925,21.801466874032126,21.924434398033533,22.043416974780456,22.15839419450102,22.269346334485476,22.37625436246936,22.479099939898212,22.5778654250733,22.672533876177773,22.76308905418283,22.84951542563327,22.931798165312035,23.00992315878328,23.08387700481349,23.153647017670277,23.21922122929844,23.280588391372913,23.337737977228254,23.390660183664338,23.439345932627976,23.48378687277011,23.52397538087838,23.559904563184748,23.591568256548076,23.618961029511286,23.64207818323306,23.660915752293867,23.675470505376165,23.685739945818693,23.691722312044732,23.69341657786429,23.690822452650117,23.68394038138756,23.672771544598255,23.65731785813758,23.637581972866062,23.61356727419463,23.585277881503917,23.55271864743762,23.515895157070112,23.474813726948394,23.429481404008577,23.379905964367097,23.326095911986823,23.268060477218302,23.205809615216467,23.13935400423294,23.06870504378433,22.99387485269682,22.91487626702735,22.831722837861772,22.744428828990362,22.65300921446105,22.557479676010853,22.457856600375887,22.35415707648046,22.24639889250571,22.13460053283828,22.01878117489961,21.898960685856295,21.77515961921219,21.647399211282696,21.515701377552027,21.380088708913885,21.240584467796317,21.097212584171395,20.949997651450346,20.79896492226491,20.644140304135615,20.485550355027705,20.323222278795495,20.157183920515937,19.98746376171221,19.814090915468075,19.637095121433997,19.45650674072568,19.272356750716078,19.084676739721658,18.893498901583868,18.69885603014675,18.500781513631612,18.299309328909757,18.094474035674242,17.886310770511628,17.67485524087483],\"type\":\"scatter\"},{\"line\":{\"color\":\"black\",\"dash\":\"dash\",\"width\":2},\"mode\":\"lines\",\"name\":\"P0P1\",\"x\":[0,45],\"y\":[0,30],\"type\":\"scatter\"},{\"line\":{\"color\":\"black\",\"dash\":\"dash\",\"width\":2},\"mode\":\"lines\",\"name\":\"P1P2\",\"x\":[45,80],\"y\":[30,0],\"type\":\"scatter\"},{\"line\":{\"color\":\"black\",\"dash\":\"dot\",\"width\":2},\"mode\":\"lines\",\"name\":\"P1O\",\"x\":[43.109551215913484,45],\"y\":[-1.3065598182575862,30],\"type\":\"scatter\"},{\"line\":{\"color\":\"black\",\"dash\":\"dot\",\"width\":2},\"mode\":\"lines\",\"name\":\"T1O\",\"x\":[43.109551215913484,29.24204631028276],\"y\":[-1.3065598182575862,19.494697540188508],\"type\":\"scatter\"},{\"line\":{\"color\":\"black\",\"dash\":\"dot\",\"width\":2},\"mode\":\"lines\",\"name\":\"T2O\",\"x\":[43.109551215913484,59.379335552312696],\"y\":[-1.3065598182575862,17.67485524087483],\"type\":\"scatter\"},{\"marker\":{\"color\":\"red\",\"size\":10},\"mode\":\"markers+text\",\"name\":\"Reference Points\",\"text\":[\"P0\",\"P1\",\"P2\",\"O\",\"T1\",\"T2\"],\"textposition\":\"top center\",\"x\":[0,45,80,43.109551215913484,29.24204631028276,59.379335552312696],\"y\":[0,30,0,-1.3065598182575862,19.494697540188508,17.67485524087483],\"type\":\"scatter\"}],                        {\"template\":{\"data\":{\"barpolar\":[{\"marker\":{\"line\":{\"color\":\"white\",\"width\":0.5},\"pattern\":{\"fillmode\":\"overlay\",\"size\":10,\"solidity\":0.2}},\"type\":\"barpolar\"}],\"bar\":[{\"error_x\":{\"color\":\"#2a3f5f\"},\"error_y\":{\"color\":\"#2a3f5f\"},\"marker\":{\"line\":{\"color\":\"white\",\"width\":0.5},\"pattern\":{\"fillmode\":\"overlay\",\"size\":10,\"solidity\":0.2}},\"type\":\"bar\"}],\"carpet\":[{\"aaxis\":{\"endlinecolor\":\"#2a3f5f\",\"gridcolor\":\"#C8D4E3\",\"linecolor\":\"#C8D4E3\",\"minorgridcolor\":\"#C8D4E3\",\"startlinecolor\":\"#2a3f5f\"},\"baxis\":{\"endlinecolor\":\"#2a3f5f\",\"gridcolor\":\"#C8D4E3\",\"linecolor\":\"#C8D4E3\",\"minorgridcolor\":\"#C8D4E3\",\"startlinecolor\":\"#2a3f5f\"},\"type\":\"carpet\"}],\"choropleth\":[{\"colorbar\":{\"outlinewidth\":0,\"ticks\":\"\"},\"type\":\"choropleth\"}],\"contourcarpet\":[{\"colorbar\":{\"outlinewidth\":0,\"ticks\":\"\"},\"type\":\"contourcarpet\"}],\"contour\":[{\"colorbar\":{\"outlinewidth\":0,\"ticks\":\"\"},\"colorscale\":[[0.0,\"#0d0887\"],[0.1111111111111111,\"#46039f\"],[0.2222222222222222,\"#7201a8\"],[0.3333333333333333,\"#9c179e\"],[0.4444444444444444,\"#bd3786\"],[0.5555555555555556,\"#d8576b\"],[0.6666666666666666,\"#ed7953\"],[0.7777777777777778,\"#fb9f3a\"],[0.8888888888888888,\"#fdca26\"],[1.0,\"#f0f921\"]],\"type\":\"contour\"}],\"heatmapgl\":[{\"colorbar\":{\"outlinewidth\":0,\"ticks\":\"\"},\"colorscale\":[[0.0,\"#0d0887\"],[0.1111111111111111,\"#46039f\"],[0.2222222222222222,\"#7201a8\"],[0.3333333333333333,\"#9c179e\"],[0.4444444444444444,\"#bd3786\"],[0.5555555555555556,\"#d8576b\"],[0.6666666666666666,\"#ed7953\"],[0.7777777777777778,\"#fb9f3a\"],[0.8888888888888888,\"#fdca26\"],[1.0,\"#f0f921\"]],\"type\":\"heatmapgl\"}],\"heatmap\":[{\"colorbar\":{\"outlinewidth\":0,\"ticks\":\"\"},\"colorscale\":[[0.0,\"#0d0887\"],[0.1111111111111111,\"#46039f\"],[0.2222222222222222,\"#7201a8\"],[0.3333333333333333,\"#9c179e\"],[0.4444444444444444,\"#bd3786\"],[0.5555555555555556,\"#d8576b\"],[0.6666666666666666,\"#ed7953\"],[0.7777777777777778,\"#fb9f3a\"],[0.8888888888888888,\"#fdca26\"],[1.0,\"#f0f921\"]],\"type\":\"heatmap\"}],\"histogram2dcontour\":[{\"colorbar\":{\"outlinewidth\":0,\"ticks\":\"\"},\"colorscale\":[[0.0,\"#0d0887\"],[0.1111111111111111,\"#46039f\"],[0.2222222222222222,\"#7201a8\"],[0.3333333333333333,\"#9c179e\"],[0.4444444444444444,\"#bd3786\"],[0.5555555555555556,\"#d8576b\"],[0.6666666666666666,\"#ed7953\"],[0.7777777777777778,\"#fb9f3a\"],[0.8888888888888888,\"#fdca26\"],[1.0,\"#f0f921\"]],\"type\":\"histogram2dcontour\"}],\"histogram2d\":[{\"colorbar\":{\"outlinewidth\":0,\"ticks\":\"\"},\"colorscale\":[[0.0,\"#0d0887\"],[0.1111111111111111,\"#46039f\"],[0.2222222222222222,\"#7201a8\"],[0.3333333333333333,\"#9c179e\"],[0.4444444444444444,\"#bd3786\"],[0.5555555555555556,\"#d8576b\"],[0.6666666666666666,\"#ed7953\"],[0.7777777777777778,\"#fb9f3a\"],[0.8888888888888888,\"#fdca26\"],[1.0,\"#f0f921\"]],\"type\":\"histogram2d\"}],\"histogram\":[{\"marker\":{\"pattern\":{\"fillmode\":\"overlay\",\"size\":10,\"solidity\":0.2}},\"type\":\"histogram\"}],\"mesh3d\":[{\"colorbar\":{\"outlinewidth\":0,\"ticks\":\"\"},\"type\":\"mesh3d\"}],\"parcoords\":[{\"line\":{\"colorbar\":{\"outlinewidth\":0,\"ticks\":\"\"}},\"type\":\"parcoords\"}],\"pie\":[{\"automargin\":true,\"type\":\"pie\"}],\"scatter3d\":[{\"line\":{\"colorbar\":{\"outlinewidth\":0,\"ticks\":\"\"}},\"marker\":{\"colorbar\":{\"outlinewidth\":0,\"ticks\":\"\"}},\"type\":\"scatter3d\"}],\"scattercarpet\":[{\"marker\":{\"colorbar\":{\"outlinewidth\":0,\"ticks\":\"\"}},\"type\":\"scattercarpet\"}],\"scattergeo\":[{\"marker\":{\"colorbar\":{\"outlinewidth\":0,\"ticks\":\"\"}},\"type\":\"scattergeo\"}],\"scattergl\":[{\"marker\":{\"colorbar\":{\"outlinewidth\":0,\"ticks\":\"\"}},\"type\":\"scattergl\"}],\"scattermapbox\":[{\"marker\":{\"colorbar\":{\"outlinewidth\":0,\"ticks\":\"\"}},\"type\":\"scattermapbox\"}],\"scatterpolargl\":[{\"marker\":{\"colorbar\":{\"outlinewidth\":0,\"ticks\":\"\"}},\"type\":\"scatterpolargl\"}],\"scatterpolar\":[{\"marker\":{\"colorbar\":{\"outlinewidth\":0,\"ticks\":\"\"}},\"type\":\"scatterpolar\"}],\"scatter\":[{\"fillpattern\":{\"fillmode\":\"overlay\",\"size\":10,\"solidity\":0.2},\"type\":\"scatter\"}],\"scatterternary\":[{\"marker\":{\"colorbar\":{\"outlinewidth\":0,\"ticks\":\"\"}},\"type\":\"scatterternary\"}],\"surface\":[{\"colorbar\":{\"outlinewidth\":0,\"ticks\":\"\"},\"colorscale\":[[0.0,\"#0d0887\"],[0.1111111111111111,\"#46039f\"],[0.2222222222222222,\"#7201a8\"],[0.3333333333333333,\"#9c179e\"],[0.4444444444444444,\"#bd3786\"],[0.5555555555555556,\"#d8576b\"],[0.6666666666666666,\"#ed7953\"],[0.7777777777777778,\"#fb9f3a\"],[0.8888888888888888,\"#fdca26\"],[1.0,\"#f0f921\"]],\"type\":\"surface\"}],\"table\":[{\"cells\":{\"fill\":{\"color\":\"#EBF0F8\"},\"line\":{\"color\":\"white\"}},\"header\":{\"fill\":{\"color\":\"#C8D4E3\"},\"line\":{\"color\":\"white\"}},\"type\":\"table\"}]},\"layout\":{\"annotationdefaults\":{\"arrowcolor\":\"#2a3f5f\",\"arrowhead\":0,\"arrowwidth\":1},\"autotypenumbers\":\"strict\",\"coloraxis\":{\"colorbar\":{\"outlinewidth\":0,\"ticks\":\"\"}},\"colorscale\":{\"diverging\":[[0,\"#8e0152\"],[0.1,\"#c51b7d\"],[0.2,\"#de77ae\"],[0.3,\"#f1b6da\"],[0.4,\"#fde0ef\"],[0.5,\"#f7f7f7\"],[0.6,\"#e6f5d0\"],[0.7,\"#b8e186\"],[0.8,\"#7fbc41\"],[0.9,\"#4d9221\"],[1,\"#276419\"]],\"sequential\":[[0.0,\"#0d0887\"],[0.1111111111111111,\"#46039f\"],[0.2222222222222222,\"#7201a8\"],[0.3333333333333333,\"#9c179e\"],[0.4444444444444444,\"#bd3786\"],[0.5555555555555556,\"#d8576b\"],[0.6666666666666666,\"#ed7953\"],[0.7777777777777778,\"#fb9f3a\"],[0.8888888888888888,\"#fdca26\"],[1.0,\"#f0f921\"]],\"sequentialminus\":[[0.0,\"#0d0887\"],[0.1111111111111111,\"#46039f\"],[0.2222222222222222,\"#7201a8\"],[0.3333333333333333,\"#9c179e\"],[0.4444444444444444,\"#bd3786\"],[0.5555555555555556,\"#d8576b\"],[0.6666666666666666,\"#ed7953\"],[0.7777777777777778,\"#fb9f3a\"],[0.8888888888888888,\"#fdca26\"],[1.0,\"#f0f921\"]]},\"colorway\":[\"#636efa\",\"#EF553B\",\"#00cc96\",\"#ab63fa\",\"#FFA15A\",\"#19d3f3\",\"#FF6692\",\"#B6E880\",\"#FF97FF\",\"#FECB52\"],\"font\":{\"color\":\"#2a3f5f\"},\"geo\":{\"bgcolor\":\"white\",\"lakecolor\":\"white\",\"landcolor\":\"white\",\"showlakes\":true,\"showland\":true,\"subunitcolor\":\"#C8D4E3\"},\"hoverlabel\":{\"align\":\"left\"},\"hovermode\":\"closest\",\"mapbox\":{\"style\":\"light\"},\"paper_bgcolor\":\"white\",\"plot_bgcolor\":\"white\",\"polar\":{\"angularaxis\":{\"gridcolor\":\"#EBF0F8\",\"linecolor\":\"#EBF0F8\",\"ticks\":\"\"},\"bgcolor\":\"white\",\"radialaxis\":{\"gridcolor\":\"#EBF0F8\",\"linecolor\":\"#EBF0F8\",\"ticks\":\"\"}},\"scene\":{\"xaxis\":{\"backgroundcolor\":\"white\",\"gridcolor\":\"#DFE8F3\",\"gridwidth\":2,\"linecolor\":\"#EBF0F8\",\"showbackground\":true,\"ticks\":\"\",\"zerolinecolor\":\"#EBF0F8\"},\"yaxis\":{\"backgroundcolor\":\"white\",\"gridcolor\":\"#DFE8F3\",\"gridwidth\":2,\"linecolor\":\"#EBF0F8\",\"showbackground\":true,\"ticks\":\"\",\"zerolinecolor\":\"#EBF0F8\"},\"zaxis\":{\"backgroundcolor\":\"white\",\"gridcolor\":\"#DFE8F3\",\"gridwidth\":2,\"linecolor\":\"#EBF0F8\",\"showbackground\":true,\"ticks\":\"\",\"zerolinecolor\":\"#EBF0F8\"}},\"shapedefaults\":{\"line\":{\"color\":\"#2a3f5f\"}},\"ternary\":{\"aaxis\":{\"gridcolor\":\"#DFE8F3\",\"linecolor\":\"#A2B1C6\",\"ticks\":\"\"},\"baxis\":{\"gridcolor\":\"#DFE8F3\",\"linecolor\":\"#A2B1C6\",\"ticks\":\"\"},\"bgcolor\":\"white\",\"caxis\":{\"gridcolor\":\"#DFE8F3\",\"linecolor\":\"#A2B1C6\",\"ticks\":\"\"}},\"title\":{\"x\":0.05},\"xaxis\":{\"automargin\":true,\"gridcolor\":\"#EBF0F8\",\"linecolor\":\"#EBF0F8\",\"ticks\":\"\",\"title\":{\"standoff\":15},\"zerolinecolor\":\"#EBF0F8\",\"zerolinewidth\":2},\"yaxis\":{\"automargin\":true,\"gridcolor\":\"#EBF0F8\",\"linecolor\":\"#EBF0F8\",\"ticks\":\"\",\"title\":{\"standoff\":15},\"zerolinecolor\":\"#EBF0F8\",\"zerolinewidth\":2}}},\"width\":900,\"height\":700,\"xaxis\":{\"scaleanchor\":\"y\",\"scaleratio\":1,\"title\":{\"text\":\"X\"}},\"yaxis\":{\"scaleanchor\":\"x\",\"scaleratio\":1,\"title\":{\"text\":\"Y\"}},\"title\":{\"text\":\"Circular Transition Plot\"}},                        {\"responsive\": true}                    ).then(function(){\n",
       "                            \n",
       "var gd = document.getElementById('15eecce2-49fc-47b5-9073-7acfa92845cb');\n",
       "var x = new MutationObserver(function (mutations, observer) {{\n",
       "        var display = window.getComputedStyle(gd).display;\n",
       "        if (!display || display === 'none') {{\n",
       "            console.log([gd, 'removed!']);\n",
       "            Plotly.purge(gd);\n",
       "            observer.disconnect();\n",
       "        }}\n",
       "}});\n",
       "\n",
       "// Listen for the removal of the full notebook cells\n",
       "var notebookContainer = gd.closest('#notebook-container');\n",
       "if (notebookContainer) {{\n",
       "    x.observe(notebookContainer, {childList: true});\n",
       "}}\n",
       "\n",
       "// Listen for the clearing of the current output cell\n",
       "var outputEl = gd.closest('.output');\n",
       "if (outputEl) {{\n",
       "    x.observe(outputEl, {childList: true});\n",
       "}}\n",
       "\n",
       "                        })                };                });            </script>        </div>"
      ]
     },
     "metadata": {},
     "output_type": "display_data"
    }
   ],
   "source": [
    "# Import necessary modules\n",
    "from functions import CircularTransition  # Class handling circular transitions\n",
    "import numpy as np  # Library for numerical operations\n",
    "\n",
    "# Define problem data  \n",
    "P0 = [0, 0]\n",
    "P1 = [45, 30]\n",
    "P2 = [80, 0]\n",
    "R = 25\n",
    "\n",
    "# Create the circular transition object \n",
    "# (This automatically computes the transition parameters)\n",
    "transition = CircularTransition(P0, P1, P2, R)\n",
    "\n",
    "# Visualize the transition (arc, tangent points, and straight sections)\n",
    "# Visualize the transition (arc, tangent points, and straight sections).\n",
    "# This visualization uses Plotly (import plotly.graph_objects) and is visible only when the file is opened in Jupyter Notebook.\n",
    "transition.plot()\n",
    "\n",
    "\n"
   ]
  },
  {
   "cell_type": "markdown",
   "id": "3d57f099-a93c-46a5-9670-b767d2481e4e",
   "metadata": {},
   "source": [
    "### Considerations on Tangent Points Position\n",
    "It is important to note that if the computed tangent length (T) is greater than the length of segments P₀P₁ or P₁P₂, the tangent points T₁ and T₂ will fall outside these segments.\n",
    "\n",
    "This is particularly relevant in **3D modeling software**, where road alignments are often defined using **base polylines**. If a polyline segment is not long enough to accommodate a circular transition, the resulting geometry may become **inconsistent**, leading to undesired distortions or incorrect alignments in the model.\n",
    "\n",
    "---\n",
    "## 1.2 Constraining the circular transition\n",
    "\n",
    "In this section, we define the approach to determine the unique radius $R^*$ of a circular transition under specific geometric constraints. Instead of assigning $R^*$ arbitrarily, we derive it from fundamental geometric properties to ensure a systematic and precise design.\n",
    "\n",
    "We focus on two key cases:\n",
    "\n",
    "1. **Circle Passing Through a Specific Point $P_c$**  \n",
    "   The goal is to determine $R^*$ so that the circular transition passes through a given control point $P_c$. This is particularly useful in road alignment design, where specific waypoints must be respected.\n",
    "\n",
    "2. **Circle Tangent to a Constraining Tangent Segment (CTS)**  \n",
    "   The CTS acts as a boundary for the circular transition, limiting how far the curve extends. The goal is to compute $R^*$ so that the circle remains tangent to this segment, ensuring a controlled and precise transition.\n",
    "\n",
    "Next, we will derive the mathematical expressions needed to compute $R^*$ for each case, forming the basis for computational algorithms that automate radius determination.\n",
    "\n"
   ]
  },
  {
   "cell_type": "code",
   "execution_count": null,
   "id": "55487027-10e3-4d55-ad4b-a7b762c13641",
   "metadata": {},
   "outputs": [],
   "source": []
  }
 ],
 "metadata": {
  "kernelspec": {
   "display_name": "Python 3 (ipykernel)",
   "language": "python",
   "name": "python3"
  },
  "language_info": {
   "codemirror_mode": {
    "name": "ipython",
    "version": 3
   },
   "file_extension": ".py",
   "mimetype": "text/x-python",
   "name": "python",
   "nbconvert_exporter": "python",
   "pygments_lexer": "ipython3",
   "version": "3.12.7"
  }
 },
 "nbformat": 4,
 "nbformat_minor": 5
}
